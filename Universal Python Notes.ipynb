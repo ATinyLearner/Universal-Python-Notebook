{
 "cells": [
  {
   "cell_type": "markdown",
   "id": "9ee41ffe-3ca8-44c4-9a1f-3a6164885609",
   "metadata": {},
   "source": [
    "# What is Python?\n",
    "#### Python refers to a <b>open-source, high-level, object-oriented , interpreted, multipurpose, cross-platform, dynamatically typed</b> programming language.\n",
    "## Let's learn the above terms:\n",
    "#### <b>Open-Source:</b> Python is open-source, which means that its source code is freely available, and the Python community actively contributes to its development. This has led to a wealth of libraries and frameworks that extend Python's capabilities.\n",
    "#### <b>High-Level:</b> Python is a high-level programming language, which means that it abstracts many low-level details and provides a more human-readable syntax. This makes it easier to write and understand code.\n",
    "#### <b>Interpreted Language:</b> Python is an interpreted language, meaning that code is executed line by line by the Python interpreter. This makes it easy to write and test code without the need for a separate compilation step.\n",
    "#### <b>Multi-Purpose:</b> Python is a versatile language that can be used for a wide range of applications. It has a rich standard library that includes modules for tasks such as file handling, networking, and more.\n",
    "#### <b>Cross-Platform:</b> Python is available for multiple platforms, including Windows, macOS, and various Unix-like operating systems. This makes it a suitable choice for developing applications that can run on different platforms.\n",
    "#### <b>Dynamic Typing:</b> Python is dynamically typed, which means that you don't need to declare variable types explicitly. Variable types are determined at runtime.\n",
    "#### <b>Object Oriented:</b> Python is designed to use objects as the fundamental building blocks of programs. In object-oriented programming, data and the functions (methods) that operate on that data are organized into \"objects.\" "
   ]
  },
  {
   "cell_type": "markdown",
   "id": "f8b3f7da-36a8-478a-9d4a-77477d1c9493",
   "metadata": {},
   "source": [
    "# Python variables:\n",
    "### In Python, variables are used to store and manipulate data. Unlike some other programming languages, Python is dynamically typed, which means you don't need to explicitly declare the data type of a variable when you create it. Here are some key points about Python variables:\n",
    "\n",
    "### Variable Naming Rules:\n",
    "1. Variable names can consist of letters, numbers, and underscores.\n",
    "2. Variable names must start with a letter or an underscore.\n",
    "3. Python is case-sensitive, so my_variable and My_Variable are considered different variables.\n",
    "4. Variable names cannot be a Python keyword or reserved word, such as if, else, while, for, etc.\n",
    "\n",
    "### Variable Assignment:\n",
    " Variables are created when you assign a value to them using the = operator. For example: x = 10 creates a variable named x and assigns it the value 10.\n",
    "\n",
    "### Dynamic Typing:\n",
    "- Python variables are dynamically typed, which means you don't need to specify the data type explicitly.\n",
    "- The data type of a variable is determined by the value it holds.\n",
    "- For example, x = 10 creates an integer variable, while x = \"Hello\" creates a string variable. "
   ]
  },
  {
   "cell_type": "markdown",
   "id": "35ad139f-06cb-43c2-8348-b3f6485a4801",
   "metadata": {},
   "source": [
    "## Python Reserved Keywords\n",
    "False, await, else, import, pass,\n",
    "None, break, except, in, raise,\n",
    "True, class, finally, is, return,\n",
    "and, continue, for, lambda, try,\n",
    "as, def, from, nonlocal, while,\n",
    "assert, del, global, not, with,\n",
    "async, elif, if, or, yield\n"
   ]
  },
  {
   "cell_type": "markdown",
   "id": "db496d57",
   "metadata": {},
   "source": [
    "## Python Input & Output\n",
    "### 1.1 Output\n",
    "In Python, we can simply use the print() function to print output. For example:"
   ]
  },
  {
   "cell_type": "code",
   "execution_count": 17,
   "id": "2bdc96f1",
   "metadata": {},
   "outputs": [
    {
     "name": "stdout",
     "output_type": "stream",
     "text": [
      "I love ice-cream!\n"
     ]
    }
   ],
   "source": [
    "print('I love ice-cream!')"
   ]
  },
  {
   "cell_type": "markdown",
   "id": "cd18936e",
   "metadata": {},
   "source": [
    "### 1.2 Output formatting\n",
    "f-strings provide a concise way to format strings. You can include expressions inside curly braces {} within a string, and Python will replace them with their values."
   ]
  },
  {
   "cell_type": "code",
   "execution_count": 18,
   "id": "87035c1c",
   "metadata": {},
   "outputs": [
    {
     "name": "stdout",
     "output_type": "stream",
     "text": [
      "Name: Alice, Age: 30\n"
     ]
    }
   ],
   "source": [
    "name = \"Alice\"\n",
    "age = 30\n",
    "print(f\"Name: {name}, Age: {age}\")"
   ]
  },
  {
   "cell_type": "markdown",
   "id": "4957a2c4",
   "metadata": {},
   "source": [
    "### 2. Python Input\n",
    "While programming, we might want to take the input from the user. In Python, we can use the input() function.\n",
    "```\n",
    "input(prompt)\n",
    "```\n",
    "Here, prompt is the string we wish to display on the screen. It is optional."
   ]
  },
  {
   "cell_type": "code",
   "execution_count": 19,
   "id": "044f2f9e",
   "metadata": {},
   "outputs": [
    {
     "name": "stdout",
     "output_type": "stream",
     "text": [
      "100\n",
      "100\n",
      "<class 'int'>\n"
     ]
    }
   ],
   "source": [
    "# using input() to take user input\n",
    "data = input('Enter a data: ')\n",
    "\n",
    "print(data) # printing the data\n",
    "\n",
    "# input by default gives str output, hence use data type constructor to change in proper data type\n",
    "\n",
    "num=int(input(\"Enter a number:\")) # used int() to change data into int data type\n",
    "print(num)\n",
    "print(type(num)) # type returns type of data"
   ]
  },
  {
   "cell_type": "markdown",
   "id": "338f2e92-c828-42b8-8bbb-a0c61734c4f8",
   "metadata": {},
   "source": [
    "## Python Datatypes\n",
    "### 1. Numeric\n",
    "1.  int - holds signed integers of non-limited length.\n",
    "2.  float - holds floating decimal points and it's accurate up to 15 decimal places."
   ]
  },
  {
   "cell_type": "code",
   "execution_count": 20,
   "id": "cba0b892-297b-45b3-9b03-fe3ec7a49b23",
   "metadata": {},
   "outputs": [],
   "source": [
    "# Here x and y are variables\n",
    "x = 5     # integer or int data types\n",
    "y = 3.14  # float data type"
   ]
  },
  {
   "cell_type": "markdown",
   "id": "300ebaf9-1949-40ec-8d88-67afe898cbbd",
   "metadata": {},
   "source": [
    "### 2. String\n",
    "String is a sequence of characters represented by either single or double quotes. For example:"
   ]
  },
  {
   "cell_type": "code",
   "execution_count": 21,
   "id": "8635c13a-db77-47f4-9224-c269f0d86708",
   "metadata": {},
   "outputs": [],
   "source": [
    "single_quoted_string = 'Hello, world!'\n",
    "double_quoted_string = \"Hello, world!\"\n",
    "triple_quoted_string = '''This is a triple-quoted string.'''\n",
    "\n",
    "# Triple-quoted strings are often used for multiline strings."
   ]
  },
  {
   "cell_type": "markdown",
   "id": "a5e4a597-33a8-4091-8052-d40e2c7011b4",
   "metadata": {},
   "source": [
    "### 3. Boolean\n",
    "In Python, boolean data types represent two possible values: True and False. Booleans are fundamental in programming and are often used for making decisions, controlling the flow of code, and implementing conditional logic.\n",
    "Here are some examples of boolean usage in Python:"
   ]
  },
  {
   "cell_type": "code",
   "execution_count": 22,
   "id": "fe87c6eb",
   "metadata": {},
   "outputs": [],
   "source": [
    "x = True\n",
    "y = False\n",
    "\n",
    "# Using boolean operators\n",
    "result1 = x and y  # False\n",
    "result2 = x or y   # True\n",
    "result3 = not x    # False\n",
    "\n",
    "# Using comparison operators\n",
    "a = 10\n",
    "b = 5\n",
    "\n",
    "result4 = a == b  # False\n",
    "result5 = a != b  # True\n",
    "result6 = a > b   # True\n",
    "result7 = a <= b  # False\n",
    "\n",
    "# test all this code using print command"
   ]
  },
  {
   "cell_type": "markdown",
   "id": "8e597373",
   "metadata": {},
   "source": [
    "## Python Type Conversion\n",
    "#### 1. Converting integer or string to float using the float() constructor:"
   ]
  },
  {
   "cell_type": "code",
   "execution_count": 23,
   "id": "a609e0f4",
   "metadata": {},
   "outputs": [
    {
     "name": "stdout",
     "output_type": "stream",
     "text": [
      "42\n",
      "42.0\n",
      "42.03\n",
      "42.03\n"
     ]
    }
   ],
   "source": [
    "integer_value = 42 #int value\n",
    "print(integer_value)\n",
    "float_value = float(integer_value) #converting to float \n",
    "print(float_value)\n",
    "\n",
    "str_value=\"42.03\" #string value\n",
    "print(str_value)\n",
    "float_value = float(str_value) #converting to float \n",
    "print(float_value)\n"
   ]
  },
  {
   "cell_type": "markdown",
   "id": "fb421e8f",
   "metadata": {},
   "source": [
    "#### 2. Converting float or string to integer using the int() constructor:"
   ]
  },
  {
   "cell_type": "code",
   "execution_count": 24,
   "id": "2506c237",
   "metadata": {},
   "outputs": [
    {
     "name": "stdout",
     "output_type": "stream",
     "text": [
      "42.03\n",
      "42\n",
      "42\n",
      "42\n"
     ]
    }
   ],
   "source": [
    "float_value = 42.03 #float value\n",
    "print(float_value)\n",
    "integer_value = int(float_value) #converting to float \n",
    "print(integer_value)\n",
    "\n",
    "str_value=\"42\" #string value\n",
    "print(str_value)\n",
    "integer_value = int(str_value) #converting to float \n",
    "print(integer_value)"
   ]
  },
  {
   "cell_type": "markdown",
   "id": "f7d7abfc",
   "metadata": {},
   "source": [
    "## Python Operators\n",
    "Python operators are symbols or special characters that are used to perform operations on variables and values. They are an essential part of programming, allowing you to manipulate data and control the flow of your code. Python operators can be classified into several categories:\n",
    "\n",
    "### Arithmetic Operators:\n",
    "- Addition (+): Adds two operands.\n",
    "- Subtraction (-): Subtracts the right operand from the left operand.\n",
    "- Multiplication (*): Multiplies two operands.\n",
    "- Division (/): Divides the left operand by the right operand.\n",
    "- Modulus (%): Returns the remainder when the left operand is divided by the right operand.\n",
    "- Exponentiation (**): Raises the left operand to the power of the right operand.\n",
    "- Floor Division (//): Returns the integer part of the division result, discarding the remainder."
   ]
  },
  {
   "cell_type": "code",
   "execution_count": 25,
   "id": "03d32472",
   "metadata": {},
   "outputs": [
    {
     "name": "stdout",
     "output_type": "stream",
     "text": [
      "13\n",
      "7\n",
      "30\n",
      "3.3333333333333335\n",
      "1\n",
      "1000\n",
      "3\n"
     ]
    }
   ],
   "source": [
    "a = 10\n",
    "b = 3\n",
    "sum_result = a + b\n",
    "print(sum_result)\n",
    "difference_result = a - b\n",
    "print(difference_result)\n",
    "product_result = a * b\n",
    "print(product_result)\n",
    "division_result = a / b\n",
    "print(division_result)\n",
    "remainder_result = a % b\n",
    "print(remainder_result)\n",
    "power_result = a ** b\n",
    "print(power_result)\n",
    "floor_division_result = a // b\n",
    "print(floor_division_result)"
   ]
  },
  {
   "cell_type": "markdown",
   "id": "7ccc41f1",
   "metadata": {},
   "source": [
    "### Comparison Operators:\n",
    "- Equal to (==): Checks if two operands are equal.\n",
    "- Not equal to (!=): Checks if two operands are not equal.\n",
    "- Greater than (>): Checks if the left operand is greater than the right operand.\n",
    "- Less than (<): Checks if the left operand is less than the right operand.\n",
    "- Greater than or equal to (>=): Checks if the left operand is greater than or equal to the right operand.\n",
    "- Less than or equal to (<=): Checks if the left operand is less than or equal to the right operand.\n",
    "<br><br>Example:"
   ]
  },
  {
   "cell_type": "code",
   "execution_count": 26,
   "id": "60e0c344",
   "metadata": {},
   "outputs": [
    {
     "name": "stdout",
     "output_type": "stream",
     "text": [
      "False\n",
      "True\n",
      "False\n",
      "True\n",
      "False\n",
      "True\n"
     ]
    }
   ],
   "source": [
    "x = 5\n",
    "y = 10\n",
    "result1 = x == y\n",
    "result2 = x != y\n",
    "result3 = x > y\n",
    "result4 = x < y\n",
    "result5 = x >= y\n",
    "result6 = x <= y\n",
    "print(result1)\n",
    "print(result2)\n",
    "print(result3)\n",
    "print(result4)\n",
    "print(result5)\n",
    "print(result6)"
   ]
  },
  {
   "cell_type": "markdown",
   "id": "5ae97dbc",
   "metadata": {},
   "source": [
    "### Logical Operators:\n",
    "- and: Returns True if both operands are True.\n",
    "- or: Returns True if at least one of the operands is True.\n",
    "- not: Returns the opposite of the operand's Boolean value."
   ]
  },
  {
   "cell_type": "code",
   "execution_count": 27,
   "id": "185dff83",
   "metadata": {},
   "outputs": [
    {
     "name": "stdout",
     "output_type": "stream",
     "text": [
      "False\n",
      "True\n",
      "False\n"
     ]
    }
   ],
   "source": [
    "p = True\n",
    "q = False\n",
    "logical_and_result = p and q\n",
    "logical_or_result = p or q\n",
    "logical_not_result = not p\n",
    "\n",
    "print(logical_and_result)\n",
    "print(logical_or_result)\n",
    "print(logical_not_result)"
   ]
  },
  {
   "cell_type": "markdown",
   "id": "945e97af",
   "metadata": {},
   "source": [
    "### Assignment Operators:\n",
    "- =: Assigns the value on the right to the variable on the left.\n",
    "- +=: Adds the right operand to the left operand and assigns the - result to the left operand.\n",
    "- -=: Subtracts the right operand from the left operand and assigns the result to the left operand.\n",
    "- *=: Multiplies the left operand by the right operand and assigns the result to the left operand.\n",
    "- /=: Divides the left operand by the right operand and assigns the result to the left operand.\n",
    "- %=: Calculates the modulus of the left operand with the right operand and assigns the result to the left operand.\n",
    "- **=: Raises the left operand to the power of the right operand and assigns the result to the left operand.\n",
    "- //=: Performs floor division of the left operand by the right operand and assigns the result to the left operand."
   ]
  },
  {
   "cell_type": "code",
   "execution_count": 28,
   "id": "ec826bdb",
   "metadata": {},
   "outputs": [],
   "source": [
    "x = 5\n",
    "x += 2  # x is now 7\n",
    "x -= 3  # x is now 4\n",
    "x *= 2  # x is now 8\n",
    "x /= 4  # x is now 2.0\n",
    "x %= 3  # x is now 2.0 (remainder of 2.0 divided by 3)"
   ]
  },
  {
   "cell_type": "markdown",
   "id": "0235d286",
   "metadata": {},
   "source": []
  }
 ],
 "metadata": {
  "kernelspec": {
   "display_name": "Python 3 (ipykernel)",
   "language": "python",
   "name": "python3"
  },
  "language_info": {
   "codemirror_mode": {
    "name": "ipython",
    "version": 3
   },
   "file_extension": ".py",
   "mimetype": "text/x-python",
   "name": "python",
   "nbconvert_exporter": "python",
   "pygments_lexer": "ipython3",
   "version": "3.11.4"
  }
 },
 "nbformat": 4,
 "nbformat_minor": 5
}
